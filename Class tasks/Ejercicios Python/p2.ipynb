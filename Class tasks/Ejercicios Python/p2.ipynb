{
 "cells": [
  {
   "cell_type": "markdown",
   "id": "f99a2438-e51c-4fd6-a228-5789c2bcba96",
   "metadata": {},
   "source": [
    "** Control de flujo"
   ]
  },
  {
   "cell_type": "markdown",
   "id": "41ccae58-d6e9-4ef8-93d8-864c830cf614",
   "metadata": {},
   "source": [
    "-Primera solución-\n",
    "    \n",
    "temperatura = 40\n",
    "\n",
    "if temperatura > 35: \n",
    "    print('Aviso por altas temperaturas')\n",
    "else:\n",
    "    print('Parámetros son normales')"
   ]
  },
  {
   "cell_type": "markdown",
   "id": "3e44f68b-6011-4e9e-9398-1af123f1ff10",
   "metadata": {},
   "source": [
    "-Segunda Solución-\n",
    "\n",
    "# Hacer que el usuario ponga la temperatura. Se pone un Int en input\n",
    "\n",
    "temperatura = int(input(print('Introduce la temperatura actual')))\n",
    "\n",
    "if temperatura > 35: \n",
    "    print('Aviso por altas temperaturas')\n",
    "else:\n",
    "    print('Parámetros son normales')"
   ]
  },
  {
   "cell_type": "markdown",
   "id": "3d5f7dc8-e4bd-4cd2-b2dc-8d6533377137",
   "metadata": {},
   "source": [
    "-Tercera Solución-\n",
    "\n",
    "temp = int(input(print('Introduce tu temperatura actual')))\n",
    "\n",
    "if temp < 20: # Condición anidada\n",
    "    if temp < 10:\n",
    "        print('Nivel azul')\n",
    "    else:\n",
    "        print('Nivel verde')\n",
    "else:\n",
    "    if temp < 30:\n",
    "        print('Nivel rojo')\n",
    "    else:\n",
    "        print('Demasiado calor...')"
   ]
  },
  {
   "cell_type": "markdown",
   "id": "144955a9-b8f0-4764-82f7-6c3728a487bd",
   "metadata": {},
   "source": [
    "-Cuarta Solución-\n",
    "\n",
    "temp = int(input(print('Introduce tu temperatura actual')))\n",
    "\n",
    "if temp < 20: # Ahora lo haremos con elif (else+if)\n",
    "    if temp < 10:\n",
    "        print('Nivel azul')\n",
    "    else:\n",
    "        print('Nivel verde')\n",
    "elif temp < 30:\n",
    "    print('Nivel naranja')\n",
    "else:\n",
    "    print('Nivel rojo')\n",
    "if temp < 30:\n",
    "    fire_risk = 'LOW'\n",
    "else:\n",
    "    fire_risk = 'HIGH'\n",
    "\n",
    "print('Riesgo de incendio: ' + fire_risk)"
   ]
  },
  {
   "cell_type": "markdown",
   "id": "dc679313-0b78-4c23-93c6-9574326bcc62",
   "metadata": {},
   "source": [
    "-Ejercicio-\n",
    "\n",
    "destino = input('Dime donde vas de viaje... ')\n",
    "\n",
    "if destino == 'Madrid' or destino == 'Barcelona':\n",
    "    print(\"Llévate la chaqueta\")\n",
    "elif destino == 'Alicante' or destino == 'Granada' or destino == 'Sevilla':\n",
    "    print(\"No me gusta ese destino...\")\n",
    "else:\n",
    "    print(\"El destino está bien\")\n"
   ]
  },
  {
   "cell_type": "markdown",
   "id": "687e5bdc-0e49-4d86-81e5-66f983d456f1",
   "metadata": {},
   "source": [
    "-Ejercicio-\n",
    "\n",
    "destino = input(print('Dime donde vas de viaje... '))\n",
    "\n",
    "temperatura = int(input(print('¿Qué temperatura hace?')))\n",
    "\n",
    "if temperatura < 17:\n",
    "    print(\"Llévate la chaqueta\")\n",
    "else:\n",
    "    print(\"Vas bien con una camiseta\")"
   ]
  },
  {
   "cell_type": "code",
   "execution_count": 68,
   "id": "2e8a93aa-7531-4d01-9144-83b14a836024",
   "metadata": {},
   "outputs": [
    {
     "name": "stdout",
     "output_type": "stream",
     "text": [
      "Dime dónde vas de viaje... \n"
     ]
    },
    {
     "name": "stdin",
     "output_type": "stream",
     "text": [
      "None Málaga\n"
     ]
    },
    {
     "name": "stdout",
     "output_type": "stream",
     "text": [
      "El mejor sitio\n"
     ]
    }
   ],
   "source": [
    "destino = input (print('Dime dónde vas de viaje... '))\n",
    "\n",
    "match destino:\n",
    "    case 'Madrid':\n",
    "        print(\"LLévate chaqueta\")\n",
    "    case 'Murcia':\n",
    "        print(\"Vas bien con una camiseta\")\n",
    "    case 'Barcelona':\n",
    "        print(\"Hace buen tiempo\")\n",
    "    case 'Sevilla':\n",
    "        print(\"Ese sitio no tiene playa\")\n",
    "    case 'Málaga':\n",
    "        print(\"El mejor sitio\")\n",
    "    case 'Granada':\n",
    "        print(\"Buenas tapas\")\n",
    "    case 'Valencia':\n",
    "        print(\"Tiene una buena horchata\")\n",
    "    case 'Galicia':\n",
    "        print(\"Llévate un paraguas\")\n",
    "    case 'Teruel'\n",
    "        print(\"Teruel existe\")\n",
    "\n",
    "    case _:\n",
    "        print(\"No conozco esta ciudad\")"
   ]
  },
  {
   "cell_type": "code",
   "execution_count": 75,
   "id": "c34752f7-0606-4ba9-a1cd-43f610f54e9c",
   "metadata": {},
   "outputs": [
    {
     "name": "stdin",
     "output_type": "stream",
     "text": [
      "Dime la edad de tu hijo/a:  0\n"
     ]
    },
    {
     "name": "stdout",
     "output_type": "stream",
     "text": [
      "Educación infantil\n"
     ]
    }
   ],
   "source": [
    "edad = int(input('Dime la edad de tu hijo/a: '))\n",
    "\n",
    "if edad >= 0 and edad < 5:\n",
    "    print('Educación infantil')\n",
    "elif edad >= 5 and edad < 12:\n",
    "    print('Educación primaria')\n",
    "elif edad >= 12 and edad < 16:\n",
    "    print('ESO')\n",
    "elif edad >= 16 and edad < 18:\n",
    "    print('Bachillerato')\n",
    "else: \n",
    "    print('Tu hijo es mayor de edad')\n"
   ]
  },
  {
   "cell_type": "code",
   "execution_count": null,
   "id": "0f35cb87-17cf-4068-93a2-bfd6e2c39908",
   "metadata": {},
   "outputs": [],
   "source": []
  }
 ],
 "metadata": {
  "kernelspec": {
   "display_name": "Python 3 (ipykernel)",
   "language": "python",
   "name": "python3"
  },
  "language_info": {
   "codemirror_mode": {
    "name": "ipython",
    "version": 3
   },
   "file_extension": ".py",
   "mimetype": "text/x-python",
   "name": "python",
   "nbconvert_exporter": "python",
   "pygments_lexer": "ipython3",
   "version": "3.12.4"
  }
 },
 "nbformat": 4,
 "nbformat_minor": 5
}
