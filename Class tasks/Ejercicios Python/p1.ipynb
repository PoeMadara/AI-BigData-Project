{
 "cells": [
  {
   "cell_type": "code",
   "execution_count": 1,
   "id": "7d11ae19-04c1-4b1e-aa75-29c4420f29f5",
   "metadata": {},
   "outputs": [
    {
     "name": "stdout",
     "output_type": "stream",
     "text": [
      "Hola\n"
     ]
    }
   ],
   "source": [
    "print(\"Hola\")"
   ]
  },
  {
   "cell_type": "code",
   "execution_count": 7,
   "id": "a81ba100-76ce-4b33-b50d-35064cad350a",
   "metadata": {},
   "outputs": [
    {
     "name": "stdin",
     "output_type": "stream",
     "text": [
      "¿Cómo te encuentras? estupendamente\n"
     ]
    },
    {
     "name": "stdout",
     "output_type": "stream",
     "text": [
      "Te encuentras: estupendamente\n"
     ]
    }
   ],
   "source": [
    "state = input(\"¿Cómo te encuentras?\")\n",
    "print(\"Te encuentras: \" + state)"
   ]
  },
  {
   "cell_type": "code",
   "execution_count": null,
   "id": "b5f6cd77-3e47-47f2-8918-17a5e5a1f99e",
   "metadata": {},
   "outputs": [],
   "source": []
  },
  {
   "cell_type": "code",
   "execution_count": null,
   "id": "7feed801-d6ee-44d0-bae9-29054b0f3aea",
   "metadata": {},
   "outputs": [],
   "source": []
  }
 ],
 "metadata": {
  "kernelspec": {
   "display_name": "Python 3 (ipykernel)",
   "language": "python",
   "name": "python3"
  },
  "language_info": {
   "codemirror_mode": {
    "name": "ipython",
    "version": 3
   },
   "file_extension": ".py",
   "mimetype": "text/x-python",
   "name": "python",
   "nbconvert_exporter": "python",
   "pygments_lexer": "ipython3",
   "version": "3.12.4"
  }
 },
 "nbformat": 4,
 "nbformat_minor": 5
}
