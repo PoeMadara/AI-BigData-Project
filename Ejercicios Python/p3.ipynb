{
 "cells": [
  {
   "cell_type": "markdown",
   "id": "5abfbd66-5311-402f-a918-35abdb24eade",
   "metadata": {},
   "source": [
    "** Tipos de datos em Python. \n",
    "No es necesario declarar el tipo de variable.\n",
    "El sistema dinámico y el tipo variable se le asigna en el momento de la inicialización de la misma"
   ]
  },
  {
   "cell_type": "code",
   "execution_count": null,
   "id": "e619a336-e036-4e16-af31-acd2bd8224a7",
   "metadata": {},
   "outputs": [],
   "source": [
    "type(\"Pepe\")"
   ]
  },
  {
   "cell_type": "code",
   "execution_count": null,
   "id": "1cfe7a60-3326-440c-9cac-21ccbb3f0a0a",
   "metadata": {},
   "outputs": [],
   "source": [
    "str"
   ]
  },
  {
   "cell_type": "markdown",
   "id": "34bb45f2-96c7-42f5-b38a-1670a98641a2",
   "metadata": {},
   "source": [
    "type(123)"
   ]
  },
  {
   "cell_type": "code",
   "execution_count": null,
   "id": "98bb800f-eace-4edc-bb3e-a34d409c82c4",
   "metadata": {},
   "outputs": [],
   "source": [
    "int"
   ]
  },
  {
   "cell_type": "code",
   "execution_count": 2,
   "id": "1fdaebcc-2c1d-4726-9477-1efbc17220c2",
   "metadata": {},
   "outputs": [
    {
     "data": {
      "text/plain": [
       "float"
      ]
     },
     "execution_count": 2,
     "metadata": {},
     "output_type": "execute_result"
    }
   ],
   "source": [
    "type(123.456)"
   ]
  },
  {
   "cell_type": "code",
   "execution_count": 1,
   "id": "bbc99da9-74d3-436a-805a-533c8b2f039b",
   "metadata": {},
   "outputs": [
    {
     "data": {
      "text/plain": [
       "float"
      ]
     },
     "execution_count": 1,
     "metadata": {},
     "output_type": "execute_result"
    }
   ],
   "source": [
    "float"
   ]
  },
  {
   "cell_type": "code",
   "execution_count": null,
   "id": "318daf67-78bd-4e22-ac8b-0370d46bf063",
   "metadata": {},
   "outputs": [],
   "source": [
    "type(True)"
   ]
  },
  {
   "cell_type": "code",
   "execution_count": null,
   "id": "02091aaf-57ee-474d-8066-2685bc8252fa",
   "metadata": {},
   "outputs": [],
   "source": [
    "bool"
   ]
  },
  {
   "cell_type": "code",
   "execution_count": null,
   "id": "00cb7f61-f6ed-4f29-a56f-711d9b1c6c9c",
   "metadata": {},
   "outputs": [],
   "source": [
    "**Juguemos un poco con los tipos de variables"
   ]
  },
  {
   "cell_type": "code",
   "execution_count": 34,
   "id": "81e3aa3a-ea8a-4294-bea7-e2fe22b2a715",
   "metadata": {},
   "outputs": [
    {
     "name": "stdin",
     "output_type": "stream",
     "text": [
      "Introduce tu edad:  14\n"
     ]
    },
    {
     "ename": "TypeError",
     "evalue": "can only concatenate str (not \"int\") to str",
     "output_type": "error",
     "traceback": [
      "\u001b[1;31m---------------------------------------------------------------------------\u001b[0m",
      "\u001b[1;31mTypeError\u001b[0m                                 Traceback (most recent call last)",
      "Cell \u001b[1;32mIn[34], line 2\u001b[0m\n\u001b[0;32m      1\u001b[0m edad \u001b[38;5;241m=\u001b[39m \u001b[38;5;28minput\u001b[39m(\u001b[38;5;124m'\u001b[39m\u001b[38;5;124mIntroduce tu edad: \u001b[39m\u001b[38;5;124m'\u001b[39m)\n\u001b[1;32m----> 2\u001b[0m edad \u001b[38;5;241m=\u001b[39m edad \u001b[38;5;241m+\u001b[39m \u001b[38;5;241m1\u001b[39m\n\u001b[0;32m      3\u001b[0m \u001b[38;5;28mprint\u001b[39m(\u001b[38;5;124m\"\u001b[39m\u001b[38;5;124mEl año que viene tendrás.. \u001b[39m\u001b[38;5;124m\"\u001b[39m \u001b[38;5;241m+\u001b[39m edad \u001b[38;5;241m+\u001b[39m \u001b[38;5;124m\"\u001b[39m\u001b[38;5;124m años\u001b[39m\u001b[38;5;124m\"\u001b[39m)\n",
      "\u001b[1;31mTypeError\u001b[0m: can only concatenate str (not \"int\") to str"
     ]
    }
   ],
   "source": [
    "**Ejercicio con error\n",
    "edad = input('Introduce tu edad: ')\n",
    "edad = edad + 1\n",
    "print(\"El año que viene tendrás.. \" + edad + \" años\")"
   ]
  },
  {
   "cell_type": "code",
   "execution_count": null,
   "id": "e699ec2d-f4e7-4069-9fc4-b60311a39017",
   "metadata": {},
   "outputs": [],
   "source": [
    "**El ejemplo anterior nos lanza un error porque hay que realizar una conversión de tipo (casting),\n",
    "pues la edad se ha almacenado como str(String)."
   ]
  },
  {
   "cell_type": "code",
   "execution_count": 35,
   "id": "8da0d9de-f9c6-4e94-a863-d9aeee8438ef",
   "metadata": {},
   "outputs": [
    {
     "name": "stdin",
     "output_type": "stream",
     "text": [
      "Introduce tu edad:  14\n"
     ]
    },
    {
     "ename": "TypeError",
     "evalue": "can only concatenate str (not \"int\") to str",
     "output_type": "error",
     "traceback": [
      "\u001b[1;31m---------------------------------------------------------------------------\u001b[0m",
      "\u001b[1;31mTypeError\u001b[0m                                 Traceback (most recent call last)",
      "Cell \u001b[1;32mIn[35], line 3\u001b[0m\n\u001b[0;32m      1\u001b[0m edad \u001b[38;5;241m=\u001b[39m \u001b[38;5;28minput\u001b[39m(\u001b[38;5;124m'\u001b[39m\u001b[38;5;124mIntroduce tu edad: \u001b[39m\u001b[38;5;124m'\u001b[39m)\n\u001b[0;32m      2\u001b[0m edad \u001b[38;5;241m=\u001b[39m \u001b[38;5;28mint\u001b[39m(edad) \u001b[38;5;241m+\u001b[39m \u001b[38;5;241m1\u001b[39m\n\u001b[1;32m----> 3\u001b[0m \u001b[38;5;28mprint\u001b[39m(\u001b[38;5;124m\"\u001b[39m\u001b[38;5;124mEl año que viene tendrás.. \u001b[39m\u001b[38;5;124m\"\u001b[39m \u001b[38;5;241m+\u001b[39m edad \u001b[38;5;241m+\u001b[39m \u001b[38;5;124m\"\u001b[39m\u001b[38;5;124m años\u001b[39m\u001b[38;5;124m\"\u001b[39m)\n",
      "\u001b[1;31mTypeError\u001b[0m: can only concatenate str (not \"int\") to str"
     ]
    }
   ],
   "source": [
    "**Ejercicio con error\n",
    "edad = input('Introduce tu edad: ')\n",
    "edad = int(edad) + 1\n",
    "print(\"El año que viene tendrás.. \" + edad + \" años\")"
   ]
  },
  {
   "cell_type": "markdown",
   "id": "d047bec1-498a-4990-ad8e-245568b654f5",
   "metadata": {},
   "source": [
    "**El segundo ejemplo nos da un error en la tercera linea"
   ]
  },
  {
   "cell_type": "code",
   "execution_count": 36,
   "id": "d846ca0f-5198-444b-ac2d-b692a4d70185",
   "metadata": {},
   "outputs": [
    {
     "name": "stdin",
     "output_type": "stream",
     "text": [
      "Introduce tu edad:  15\n"
     ]
    },
    {
     "name": "stdout",
     "output_type": "stream",
     "text": [
      "El año que viene tendrás 16 años\n"
     ]
    }
   ],
   "source": [
    "edad = input('Introduce tu edad: ')\n",
    "edad = int(edad) + 1\n",
    "print('El año que viene tendrás ' + str(edad) + ' años')"
   ]
  },
  {
   "cell_type": "markdown",
   "id": "4bee92a8-3ac3-4372-8ef2-f82bd4a3005c",
   "metadata": {},
   "source": [
    "**Ahora si nos ha funcionado bien. Probemos con otros tipos de cambios"
   ]
  },
  {
   "cell_type": "code",
   "execution_count": 27,
   "id": "14de215b-90b8-4704-b9cc-257677e57227",
   "metadata": {},
   "outputs": [
    {
     "name": "stdin",
     "output_type": "stream",
     "text": [
      "¿Tienes fiebre? 0-No / 1-Yes 0\n"
     ]
    },
    {
     "name": "stdout",
     "output_type": "stream",
     "text": [
      "False\n"
     ]
    }
   ],
   "source": [
    "fiebre = bool(int(input(\"¿Tienes fiebre? 0-No / 1-Yes\")))\n",
    "print(fiebre)"
   ]
  },
  {
   "cell_type": "markdown",
   "id": "e59b2fab-af79-4429-b244-37297cc11948",
   "metadata": {},
   "source": [
    "** Ahora trabajemos un poco con los llamados \"Métodos\""
   ]
  },
  {
   "cell_type": "code",
   "execution_count": 42,
   "id": "1b63dbb3-6f57-404a-a71b-a74be8f0e4bf",
   "metadata": {},
   "outputs": [
    {
     "name": "stdout",
     "output_type": "stream",
     "text": [
      "JUGUEMOS UN POCO\n"
     ]
    }
   ],
   "source": [
    "prueba = \"Juguemos un poco\"\n",
    "print(prueba.upper())"
   ]
  },
  {
   "cell_type": "code",
   "execution_count": 25,
   "id": "879d17cd-56a2-4afe-91a8-38148d939708",
   "metadata": {},
   "outputs": [
    {
     "name": "stdout",
     "output_type": "stream",
     "text": [
      "juguemos un poco\n"
     ]
    }
   ],
   "source": [
    "course = \"Juguemos un poco\"\n",
    "print(prueba.lower())"
   ]
  },
  {
   "cell_type": "code",
   "execution_count": 31,
   "id": "5d5ec755-6944-49bd-85fe-81d75b716748",
   "metadata": {},
   "outputs": [
    {
     "name": "stdout",
     "output_type": "stream",
     "text": [
      "-1\n"
     ]
    }
   ],
   "source": [
    "print(prueba.find('un'))\n",
    "#Posición de la letra 'un'"
   ]
  },
  {
   "cell_type": "code",
   "execution_count": 32,
   "id": "9183e9b3-96b9-4caa-8607-07d4592b3fec",
   "metadata": {},
   "outputs": [
    {
     "name": "stdout",
     "output_type": "stream",
     "text": [
      "Juguemos una mijilla\n"
     ]
    }
   ],
   "source": [
    "print(prueba.replace(\"un poco\", \"una mijilla\"))"
   ]
  },
  {
   "cell_type": "code",
   "execution_count": 33,
   "id": "1c925a1c-243c-4e5b-841e-4f68392c5abc",
   "metadata": {},
   "outputs": [
    {
     "name": "stdout",
     "output_type": "stream",
     "text": [
      "False\n"
     ]
    }
   ],
   "source": [
    "print(\"Python\" in prueba)\n",
    "#Para saber si una determinada palabra o carácter se encuentra dentro de una variable"
   ]
  },
  {
   "cell_type": "code",
   "execution_count": null,
   "id": "fd8b266e-39ad-447b-8246-5a747c6905dc",
   "metadata": {},
   "outputs": [],
   "source": [
    "** Ahora juguemos con los números (Algo de mates)"
   ]
  },
  {
   "cell_type": "code",
   "execution_count": null,
   "id": "8d7fdf33-ba8a-43a7-93ed-76d987a23ddb",
   "metadata": {},
   "outputs": [],
   "source": [
    "number1 = 5 ** 2 #Potencia, con un * se multiplica\n",
    "print(number1)"
   ]
  },
  {
   "cell_type": "code",
   "execution_count": null,
   "id": "d05d4a14-7392-4ea2-b631-d5c023afe1ca",
   "metadata": {},
   "outputs": [],
   "source": [
    "number2 = 25 // 2 #Divición entera, con un / se hace una división decimal\n",
    "print(number2)"
   ]
  },
  {
   "cell_type": "code",
   "execution_count": 48,
   "id": "4788d5a1-05a6-41d2-b050-522c033afbbe",
   "metadata": {},
   "outputs": [
    {
     "name": "stdout",
     "output_type": "stream",
     "text": [
      "11\n"
     ]
    }
   ],
   "source": [
    "number2 += 2  # Incrementa number2 en 2\n",
    "print(number2)  # Imprime el valor de number2"
   ]
  },
  {
   "cell_type": "code",
   "execution_count": 47,
   "id": "2cbc16a7-9e03-4754-90a5-1122f2189883",
   "metadata": {},
   "outputs": [
    {
     "ename": "SyntaxError",
     "evalue": "invalid syntax (4047163474.py, line 1)",
     "output_type": "error",
     "traceback": [
      "\u001b[1;36m  Cell \u001b[1;32mIn[47], line 1\u001b[1;36m\u001b[0m\n\u001b[1;33m    ** Operadores lógicos\u001b[0m\n\u001b[1;37m    ^\u001b[0m\n\u001b[1;31mSyntaxError\u001b[0m\u001b[1;31m:\u001b[0m invalid syntax\n"
     ]
    }
   ],
   "source": [
    "** Operadores lógicos"
   ]
  },
  {
   "cell_type": "code",
   "execution_count": 45,
   "id": "58ecf79b-add0-426c-a397-c358bd3bbc02",
   "metadata": {},
   "outputs": [
    {
     "name": "stdout",
     "output_type": "stream",
     "text": [
      "True\n"
     ]
    }
   ],
   "source": [
    "print(3 == 3)"
   ]
  },
  {
   "cell_type": "code",
   "execution_count": 44,
   "id": "99a61187-ea7c-4670-a673-85c9d5edf699",
   "metadata": {},
   "outputs": [
    {
     "name": "stdout",
     "output_type": "stream",
     "text": [
      "False\n"
     ]
    }
   ],
   "source": [
    "print(4 != 4)"
   ]
  },
  {
   "cell_type": "code",
   "execution_count": 43,
   "id": "476d44bf-2802-4a02-bdfc-92d882270083",
   "metadata": {},
   "outputs": [
    {
     "name": "stdout",
     "output_type": "stream",
     "text": [
      "False\n"
     ]
    }
   ],
   "source": [
    "print(2 > 4)"
   ]
  },
  {
   "cell_type": "code",
   "execution_count": 43,
   "id": "f1635bca-3a38-4de1-98e0-ec82b128b563",
   "metadata": {},
   "outputs": [
    {
     "name": "stdout",
     "output_type": "stream",
     "text": [
      "False\n"
     ]
    }
   ],
   "source": [
    "max = 70\n",
    "print(max >= 80)"
   ]
  },
  {
   "cell_type": "code",
   "execution_count": 43,
   "id": "1651a393-101c-4c8f-b543-c49a408c5936",
   "metadata": {},
   "outputs": [
    {
     "name": "stdout",
     "output_type": "stream",
     "text": [
      "False\n"
     ]
    }
   ],
   "source": [
    "print(max >= 70 and max <= 80)"
   ]
  },
  {
   "cell_type": "code",
   "execution_count": 50,
   "id": "0a1c8e1d-f5d2-4453-825b-4deebfa9aedd",
   "metadata": {},
   "outputs": [
    {
     "ename": "TypeError",
     "evalue": "'>=' not supported between instances of 'builtin_function_or_method' and 'int'",
     "output_type": "error",
     "traceback": [
      "\u001b[1;31m---------------------------------------------------------------------------\u001b[0m",
      "\u001b[1;31mTypeError\u001b[0m                                 Traceback (most recent call last)",
      "Cell \u001b[1;32mIn[50], line 1\u001b[0m\n\u001b[1;32m----> 1\u001b[0m \u001b[38;5;28;01mif\u001b[39;00m (\u001b[38;5;28mmax\u001b[39m \u001b[38;5;241m>\u001b[39m\u001b[38;5;241m=\u001b[39m \u001b[38;5;241m70\u001b[39m \u001b[38;5;129;01mand\u001b[39;00m \u001b[38;5;28mmax\u001b[39m \u001b[38;5;241m<\u001b[39m\u001b[38;5;241m=\u001b[39m \u001b[38;5;241m80\u001b[39m):\n\u001b[0;32m      2\u001b[0m     \u001b[38;5;28mprint\u001b[39m(\u001b[38;5;124m\"\u001b[39m\u001b[38;5;124mAdelante\u001b[39m\u001b[38;5;124m\"\u001b[39m)\n\u001b[0;32m      3\u001b[0m \u001b[38;5;28;01melse\u001b[39;00m:\n",
      "\u001b[1;31mTypeError\u001b[0m: '>=' not supported between instances of 'builtin_function_or_method' and 'int'"
     ]
    }
   ],
   "source": [
    "if (max >= 70 and max <= 80):\n",
    "    print(\"Adelante\")\n",
    "else:\n",
    "    print(\"Quieto parao\")"
   ]
  },
  {
   "cell_type": "code",
   "execution_count": 59,
   "id": "6ae9b955-d4cc-4eb2-a7c6-d37fde51e434",
   "metadata": {},
   "outputs": [
    {
     "name": "stdin",
     "output_type": "stream",
     "text": [
      "Introduce la temperatura máxima:  71\n"
     ]
    },
    {
     "name": "stdout",
     "output_type": "stream",
     "text": [
      "Adelante\n"
     ]
    }
   ],
   "source": [
    "max = int(input(\"Introduce la temperatura máxima: \"))\n",
    "if (max >= 70 and max <= 80):\n",
    "    print(\"Adelante\")\n",
    "else:\n",
    "    print(\"Quieto parao\")"
   ]
  },
  {
   "cell_type": "markdown",
   "id": "a887a484-3e8d-4531-9628-a8f1433cbf14",
   "metadata": {},
   "source": [
    "** Ahora os dejo a vosotros jugar on el \"elif\" para añadir otros rangos. El \"else es opcional\""
   ]
  },
  {
   "cell_type": "code",
   "execution_count": 63,
   "id": "14bf5acb-9c24-47e3-b3f9-85d2a3f4b8c6",
   "metadata": {},
   "outputs": [
    {
     "name": "stdin",
     "output_type": "stream",
     "text": [
      "Introduce la temperatura máxima:  74\n"
     ]
    },
    {
     "name": "stdout",
     "output_type": "stream",
     "text": [
      "Temperatura normal de Sevilla\n"
     ]
    }
   ],
   "source": [
    "max_temp = int(input(\"Introduce la temperatura máxima: \"))\n",
    "\n",
    "if max_temp >= 70 and max_temp <= 80:\n",
    "    print(\"Temperatura normal de Sevilla\")\n",
    "elif max_temp < 17:\n",
    "    print(\"Va a hacer frío\")\n",
    "else:\n",
    "    print(\"Va a hacer calor\")\n"
   ]
  },
  {
   "cell_type": "code",
   "execution_count": null,
   "id": "8807c1b5-9413-4175-90c4-2353098f8b19",
   "metadata": {},
   "outputs": [],
   "source": [
    "** A continuación veremos los bucles"
   ]
  },
  {
   "cell_type": "code",
   "execution_count": 64,
   "id": "567dae50-7793-4534-9d08-f3c6b3a8f4b6",
   "metadata": {},
   "outputs": [
    {
     "name": "stdout",
     "output_type": "stream",
     "text": [
      "0\n",
      "1\n",
      "2\n",
      "3\n",
      "4\n"
     ]
    }
   ],
   "source": [
    "for i in range(5): # de cero a cuatro\n",
    "    print(i)"
   ]
  },
  {
   "cell_type": "code",
   "execution_count": 90,
   "id": "10f9b3d7-461d-4b6c-ae8b-cd524dbc4eb0",
   "metadata": {},
   "outputs": [
    {
     "name": "stdout",
     "output_type": "stream",
     "text": [
      "20\n",
      "17\n",
      "14\n",
      "11\n"
     ]
    }
   ],
   "source": [
    "for i in range (20, 8, -3): # Cuenta regresiva. range(start, stop, step) genera una secuencia de números comenzando desde start, \n",
    "                             #hasta (pero sin incluir) stop, incrementando en step.\n",
    "    print(i)"
   ]
  },
  {
   "cell_type": "code",
   "execution_count": 87,
   "id": "996e418e-aa9e-4e20-9949-e79ca0725c80",
   "metadata": {},
   "outputs": [
    {
     "name": "stdout",
     "output_type": "stream",
     "text": [
      "C\n",
      "u\n",
      "r\n",
      "s\n",
      "o\n",
      " \n",
      "d\n",
      "e\n",
      " \n",
      "P\n",
      "y\n",
      "t\n",
      "h\n",
      "o\n",
      "n\n"
     ]
    }
   ],
   "source": [
    "palabra = \"Curso de Python\"\n",
    "for i in palabra: #Mira que chulada\n",
    "    print(i)"
   ]
  },
  {
   "cell_type": "code",
   "execution_count": 94,
   "id": "7d0d83cc-5355-4c58-82f4-59fb8371e1d8",
   "metadata": {},
   "outputs": [
    {
     "name": "stdout",
     "output_type": "stream",
     "text": [
      "C\n",
      "U\n",
      "R\n",
      "S\n",
      "O\n",
      " \n",
      "D\n",
      "E\n",
      " \n",
      "P\n",
      "Y\n",
      "T\n",
      "H\n",
      "O\n",
      "N\n"
     ]
    }
   ],
   "source": [
    "palabra = \"Curso de Python\"\n",
    "palabra_mayusculas = palabra.upper()  # Convierte toda la cadena a mayúsculas\n",
    "\n",
    "for i in palabra_mayusculas:\n",
    "    print(i) \n"
   ]
  },
  {
   "cell_type": "code",
   "execution_count": null,
   "id": "a0ae3aef-73f0-4e06-a704-937ad1a45ac3",
   "metadata": {},
   "outputs": [],
   "source": [
    "** Ahora otro tipo de bucle"
   ]
  },
  {
   "cell_type": "code",
   "execution_count": 105,
   "id": "d43c8a8a-0cd3-4a1d-8320-938bdf723da6",
   "metadata": {},
   "outputs": [
    {
     "name": "stdout",
     "output_type": "stream",
     "text": [
      "0\n",
      "5\n",
      "10\n",
      "15\n"
     ]
    }
   ],
   "source": [
    "i = 0\n",
    "while i<20:\n",
    "    i +=1\n",
    "for i in range(0, 20, 5): #range(start, stop, step) genera una secuencia de números comenzando desde start, \n",
    "                             #hasta (pero sin incluir) stop, incrementando en step.\n",
    "    print(i)"
   ]
  },
  {
   "cell_type": "code",
   "execution_count": 106,
   "id": "cd4ec955-ac3c-4747-aa3a-15ad76afea90",
   "metadata": {},
   "outputs": [
    {
     "name": "stdout",
     "output_type": "stream",
     "text": [
      "5\n",
      "8\n",
      "11\n",
      "14\n",
      "17\n",
      "20\n"
     ]
    }
   ],
   "source": [
    "i = 5\n",
    "while i<=20:\n",
    "    print(i)\n",
    "    i +=3"
   ]
  },
  {
   "cell_type": "code",
   "execution_count": 114,
   "id": "39526a58-66ad-4991-982f-94c48b367141",
   "metadata": {},
   "outputs": [
    {
     "name": "stdout",
     "output_type": "stream",
     "text": [
      "\n",
      "$\n",
      "$$\n",
      "$$$\n",
      "$$$$\n",
      "$$$$$\n",
      "$$$$$$\n",
      "$$$$$$$\n",
      "$$$$$$$$\n",
      "$$$$$$$$$\n",
      "$$$$$$$$$$\n",
      "$$$$$$$$$$$\n",
      "$$$$$$$$$$$$\n",
      "$$$$$$$$$$$$$\n",
      "$$$$$$$$$$$$$$\n"
     ]
    }
   ],
   "source": [
    "i = 0\n",
    "while i<15:\n",
    "    print(i * '$')\n",
    "    i +=1"
   ]
  },
  {
   "cell_type": "code",
   "execution_count": null,
   "id": "d44de3b5-f27d-40c1-b786-f7e791fe1fa2",
   "metadata": {},
   "outputs": [],
   "source": []
  },
  {
   "cell_type": "code",
   "execution_count": null,
   "id": "03315259-64ec-420a-a275-4bd6a1275b41",
   "metadata": {},
   "outputs": [],
   "source": []
  }
 ],
 "metadata": {
  "kernelspec": {
   "display_name": "Python 3 (ipykernel)",
   "language": "python",
   "name": "python3"
  },
  "language_info": {
   "codemirror_mode": {
    "name": "ipython",
    "version": 3
   },
   "file_extension": ".py",
   "mimetype": "text/x-python",
   "name": "python",
   "nbconvert_exporter": "python",
   "pygments_lexer": "ipython3",
   "version": "3.12.4"
  }
 },
 "nbformat": 4,
 "nbformat_minor": 5
}
